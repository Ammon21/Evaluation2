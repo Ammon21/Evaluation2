{
 "cells": [
  {
   "cell_type": "code",
   "execution_count": null,
   "id": "59127cb1",
   "metadata": {},
   "outputs": [
    {
     "name": "stdout",
     "output_type": "stream",
     "text": [
      "Mulugeta                221\n",
      " Endashaw               217\n",
      "Blessing Okon           151\n",
      "Belaynesh Assefa        151\n",
      "Mohammadaman            145\n",
      "Mulugeta Kassa          143\n",
      "Aser Mesfin             142\n",
      " Kalkidan Belay         125\n",
      "Daniel Getachew          90\n",
      " Bililegne               83\n",
      " Alelegne Damtew         83\n",
      "Teferi Getahun           79\n",
      "Sintayehu Wondatir       79\n",
      "Endalk Asfaw             79\n",
      "Mr. Teshager             79\n",
      "Regassa Guta             78\n",
      "Zerihun Alemu            78\n",
      "Dagnew Akalu             78\n",
      "Mohammadaman             78\n",
      "Jacob Berette            75\n",
      "Endashaw                 75\n",
      " Alelegne Damtew         72\n",
      " Eyob Teshome            72\n",
      " Endalk Asfaw            72\n",
      " Dagnew Akalu            72\n",
      "  Jacob Berette          71\n",
      " Ayenew Tadesse          71\n",
      " Zerihun Alemu           71\n",
      " Sintayehu Wondatir      71\n",
      " Mohammadaman            70\n",
      " Mulugeta                70\n",
      " Eyob Teshome            63\n",
      " Rediet Seyoum           63\n",
      "Sintayehu Wondat         61\n",
      "Ethagne Degsew           61\n",
      " Firew                   57\n",
      " Etagegnew               30\n",
      "Sentayhu                 27\n",
      "Etagenehu                27\n",
      "Etagegnehu               26\n",
      "Asehafi                  25\n",
      " Teferi Getahun          21\n",
      "Name: Teacher, dtype: int64\n"
     ]
    }
   ],
   "source": [
    "import pandas as pd\n",
    "df = pd.read_csv(\"eval.csv\")\n",
    "print(df.Teacher.value_counts())"
   ]
  },
  {
   "cell_type": "code",
   "execution_count": 97,
   "id": "0e33fce4",
   "metadata": {},
   "outputs": [
    {
     "data": {
      "text/plain": [
       "Mohammadaman          293\n",
       "Endashaw Jigsaw       292\n",
       "Sintayehu Wondatir    238\n",
       "Mulugeta              221\n",
       "Alelegne Damtew       155\n",
       "Blessing Okon         151\n",
       "Belaynesh Assefa      151\n",
       "Endalk Asfaw          151\n",
       "Dagnew Akalu          150\n",
       "Zerihun Alemu         149\n",
       "Jacob Barette         146\n",
       "Mulugeta Kassa        143\n",
       "Aser Mesfin           142\n",
       "Kalkidan Belay        125\n",
       "Teferi Getahun        100\n",
       "Daniel Getachew        90\n",
       "Bililign               83\n",
       "Etagegnehu             83\n",
       "Teshager               79\n",
       "Regassa Guta           78\n",
       "Eyob Teshome           72\n",
       "Ayenew Tadesse         71\n",
       "Mulugeta Belay         70\n",
       "Rediet Seyoum          63\n",
       " Eyob Teshome          63\n",
       "Ethagne Degsew         61\n",
       "Firew                  57\n",
       "Ashenafi               25\n",
       "Name: Teacher, dtype: int64"
      ]
     },
     "execution_count": 97,
     "metadata": {},
     "output_type": "execute_result"
    }
   ],
   "source": [
    "df.replace(\" Kalkidan Belay \", \"Kalkidan Belay\", inplace=True)\n",
    "df.replace(\" Endashaw\", \"Endashaw Jigsaw\", inplace=True)\n",
    "df.replace(\"Endashaw\", \"Endashaw Jigsaw\", inplace=True)\n",
    "df.replace(\" Alelegne Damtew\", \"Alelegne Damtew\", inplace=True)\n",
    "df.replace(\" Alelegne Damtew \", \"Alelegne Damtew\", inplace=True)\n",
    "df.replace(\" Endalk Asfaw\", \"Endalk Asfaw\", inplace=True)\n",
    "df.replace(\" Firew \", \"Firew\", inplace=True)\n",
    "df.replace(\" Etagegnew \", \"Etagegnehu\", inplace=True)\n",
    "df.replace(\"Etagenehu\", \"Etagegnehu\", inplace=True)\n",
    "df.replace(\" Mulugeta\", \"Mulugeta Belay\", inplace=True)\n",
    "df.replace(\"Mulugeta   \", \"Mulugeta Belay\", inplace=True)\n",
    "df.replace(\" Teferi Getahun \", \"Teferi Getahun\", inplace=True)\n",
    "df.replace(\"Mohammadaman \", \"Mohammadaman\", inplace=True)\n",
    "df.replace(\"Sentayhu\", \"Sintayehu Wondatir\", inplace=True)\n",
    "df.replace(\"Sintayehu Wondat\", \"Sintayehu Wondatir\", inplace=True)\n",
    "df.replace(\" Sintayehu Wondatir \", \"Sintayehu Wondatir\", inplace=True)\n",
    "df.replace(\"  Jacob Berette \", \"Jacob Barette\", inplace=True)\n",
    "df.replace(\"Jacob Berette \", \"Jacob Barette\", inplace=True)\n",
    "df.replace(\" Mohammadaman\", \"Mohammadaman\", inplace=True)\n",
    "df.replace(\" Bililegne  \", \"Bililign\", inplace=True)\n",
    "df.replace(\"Mr. Teshager\", \"Teshager\", inplace=True)\n",
    "df.replace(\" Rediet Seyoum  \", \"Rediet Seyoum\", inplace=True)\n",
    "df.replace(\" Eyob Teshome\", \"Eyob Teshome\", inplace=True)\n",
    "df.replace(\"Eyob Teshome \", \"Eyob Teshome\", inplace=True)\n",
    "df.replace(\" Dagnew Akalu\", \"Dagnew Akalu\", inplace=True)\n",
    "df.replace(\" Zerihun Alemu\", \"Zerihun Alemu\", inplace=True)\n",
    "df.replace(\"Zerihun Alemu \", \"Zerihun Alemu\", inplace=True)\n",
    "df.replace(\" Ayenew Tadesse\", \"Ayenew Tadesse\", inplace=True)\n",
    "df.replace(\"Asehafi\", \"Ashenafi\", inplace=True)\n",
    " \n",
    "\n",
    "df.Teacher.value_counts()"
   ]
  }
 ],
 "metadata": {
  "kernelspec": {
   "display_name": "base",
   "language": "python",
   "name": "python3"
  },
  "language_info": {
   "codemirror_mode": {
    "name": "ipython",
    "version": 3
   },
   "file_extension": ".py",
   "mimetype": "text/x-python",
   "name": "python",
   "nbconvert_exporter": "python",
   "pygments_lexer": "ipython3",
   "version": "3.9.7"
  }
 },
 "nbformat": 4,
 "nbformat_minor": 5
}
