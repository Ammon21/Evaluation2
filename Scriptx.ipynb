{
 "cells": [
  {
   "cell_type": "code",
   "execution_count": null,
   "id": "a3a84a6a",
   "metadata": {},
   "outputs": [
    {
     "name": "stdout",
     "output_type": "stream",
     "text": [
      "❌ No data found to merge.\n"
     ]
    }
   ],
   "source": [
    "import os\n",
    "import pandas as pd\n",
    "import re\n",
    "\n",
    "# Root folder path\n",
    "root_folder = \"Teachers Evaluation-2025-Second round\"\n",
    "merged_data = []\n",
    "\n",
    "# Go through all folders and files\n",
    "for grade in os.listdir(root_folder):\n",
    "    grade_path = os.path.join(root_folder, grade)\n",
    "    if not os.path.isdir(grade_path):\n",
    "        continue\n",
    "\n",
    "    for section in os.listdir(grade_path):\n",
    "        section_path = os.path.join(grade_path, section)\n",
    "        if not os.path.isdir(section_path):\n",
    "            continue\n",
    "\n",
    "        for filename in os.listdir(section_path):\n",
    "            if filename.lower().endswith((\".xlsx\", \".xls\", \".xlsm\")):\n",
    "                file_path = os.path.join(section_path, filename)\n",
    "\n",
    "                try:\n",
    "                    # Read Excel file\n",
    "                    df = pd.read_excel(file_path)\n",
    "\n",
    "                    # Extract teacher name from filename\n",
    "                    match = re.search(r\"\\((.*?)\\)\", filename)\n",
    "                    teacher = match.group(1) if match else \"Unknown\"\n",
    "\n",
    "                    # Extract grade number using regex (e.g., from \"Grade-9\" or \"GRADE 9\")\n",
    "                    grade_number_match = re.search(r\"Grade[\\s\\-]?(\\d+)\", grade, re.IGNORECASE)\n",
    "                    grade_number = grade_number_match.group(1) if grade_number_match else \"Unknown\"\n",
    "\n",
    "                    # Extract section letter using regex (e.g., from \"Section A\" or \"SECTION-A\")\n",
    "                    section_letter_match = re.search(r\"Section[\\s\\-]?([A-Z])\", section, re.IGNORECASE)\n",
    "                    section_letter = section_letter_match.group(1) if section_letter_match else \"Unknown\"\n",
    "\n",
    "                    # Add metadata columns\n",
    "                    df[\"Grade\"] = grade_number\n",
    "                    df[\"Section\"] = section_letter\n",
    "                    df[\"Teacher\"] = teacher\n",
    "\n",
    "                    merged_data.append(df)\n",
    "\n",
    "                except Exception as e:\n",
    "                    print(f\"❌ Error reading file: {file_path}\")\n",
    "                    print(\"Error:\", e)\n",
    "\n",
    "# Final merge and export\n",
    "if merged_data:\n",
    "    final_df = pd.concat(merged_data, ignore_index=True)\n",
    "    final_df.to_csv(\"Merged_Teacher_Evaluations_2025.csv\", index=False)\n",
    "    print(\"✅ Merged CSV created successfully.\")\n",
    "else:\n",
    "    print(\"❌ No data found to merge.\")\n"
   ]
  },
  {
   "cell_type": "code",
   "execution_count": null,
   "id": "d42b8322",
   "metadata": {},
   "outputs": [],
   "source": []
  }
 ],
 "metadata": {
  "kernelspec": {
   "display_name": "base",
   "language": "python",
   "name": "python3"
  },
  "language_info": {
   "codemirror_mode": {
    "name": "ipython",
    "version": 3
   },
   "file_extension": ".py",
   "mimetype": "text/x-python",
   "name": "python",
   "nbconvert_exporter": "python",
   "pygments_lexer": "ipython3",
   "version": "3.9.7"
  }
 },
 "nbformat": 4,
 "nbformat_minor": 5
}
